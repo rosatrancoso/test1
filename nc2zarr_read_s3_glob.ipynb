{
 "cells": [
  {
   "cell_type": "code",
   "execution_count": 1,
   "metadata": {},
   "outputs": [],
   "source": [
    "%load_ext memory_profiler"
   ]
  },
  {
   "cell_type": "code",
   "execution_count": 2,
   "metadata": {},
   "outputs": [
    {
     "name": "stdout",
     "output_type": "stream",
     "text": [
      "peak memory: 58.32 MiB, increment: 0.19 MiB\n"
     ]
    }
   ],
   "source": [
    "%memit"
   ]
  },
  {
   "cell_type": "code",
   "execution_count": 3,
   "metadata": {},
   "outputs": [
    {
     "name": "stdout",
     "output_type": "stream",
     "text": [
      "peak memory: 123.52 MiB, increment: 0.04 MiB\n"
     ]
    }
   ],
   "source": [
    "import xarray as xr\n",
    "import s3fs\n",
    "%memit"
   ]
  },
  {
   "cell_type": "code",
   "execution_count": 4,
   "metadata": {},
   "outputs": [
    {
     "name": "stdout",
     "output_type": "stream",
     "text": [
      "peak memory: 128.61 MiB, increment: 0.01 MiB\n"
     ]
    }
   ],
   "source": [
    "# 's3://metservice-research-us-east-2/research/experiments/rosa/tmp\n",
    "s3 = s3fs.S3FileSystem(anon=False)\n",
    "store = s3fs.S3Map(root='s3://metservice-research-us-east-2/research/experiments/rosa/tmp/glob20190707T00.zarr', s3=s3)\n",
    "%memit"
   ]
  },
  {
   "cell_type": "code",
   "execution_count": 5,
   "metadata": {},
   "outputs": [
    {
     "name": "stdout",
     "output_type": "stream",
     "text": [
      "CPU times: user 1.31 s, sys: 60.6 ms, total: 1.38 s\n",
      "Wall time: 35.5 s\n",
      "peak memory: 132.58 MiB, increment: 0.00 MiB\n"
     ]
    }
   ],
   "source": [
    "%time ds_zarr = xr.open_zarr(store=store)\n",
    "%memit"
   ]
  }
 ],
 "metadata": {
  "kernelspec": {
   "display_name": "Python 3",
   "language": "python",
   "name": "python3"
  },
  "language_info": {
   "codemirror_mode": {
    "name": "ipython",
    "version": 3
   },
   "file_extension": ".py",
   "mimetype": "text/x-python",
   "name": "python",
   "nbconvert_exporter": "python",
   "pygments_lexer": "ipython3",
   "version": "3.7.3"
  }
 },
 "nbformat": 4,
 "nbformat_minor": 2
}
