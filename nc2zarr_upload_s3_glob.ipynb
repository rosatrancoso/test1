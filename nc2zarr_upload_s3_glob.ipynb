{
 "cells": [
  {
   "cell_type": "code",
   "execution_count": 1,
   "metadata": {},
   "outputs": [],
   "source": [
    "%load_ext memory_profiler"
   ]
  },
  {
   "cell_type": "code",
   "execution_count": 2,
   "metadata": {},
   "outputs": [
    {
     "name": "stdout",
     "output_type": "stream",
     "text": [
      "peak memory: 58.14 MiB, increment: 0.22 MiB\n"
     ]
    }
   ],
   "source": [
    "%memit"
   ]
  },
  {
   "cell_type": "code",
   "execution_count": 3,
   "metadata": {},
   "outputs": [
    {
     "name": "stdout",
     "output_type": "stream",
     "text": [
      "peak memory: 123.57 MiB, increment: 0.01 MiB\n"
     ]
    }
   ],
   "source": [
    "import xarray as xr\n",
    "import s3fs\n",
    "%memit"
   ]
  },
  {
   "cell_type": "code",
   "execution_count": 4,
   "metadata": {},
   "outputs": [
    {
     "name": "stdout",
     "output_type": "stream",
     "text": [
      "peak memory: 123.59 MiB, increment: 0.02 MiB\n"
     ]
    }
   ],
   "source": [
    "filein = 'glob20190707T00.nc'\n",
    "%memit"
   ]
  },
  {
   "cell_type": "code",
   "execution_count": 5,
   "metadata": {},
   "outputs": [
    {
     "name": "stdout",
     "output_type": "stream",
     "text": [
      "CPU times: user 61.2 ms, sys: 6.65 ms, total: 67.8 ms\n",
      "Wall time: 146 ms\n",
      "peak memory: 135.90 MiB, increment: 0.01 MiB\n"
     ]
    }
   ],
   "source": [
    "%time ds = xr.open_dataset(filein)\n",
    "%memit"
   ]
  },
  {
   "cell_type": "code",
   "execution_count": 6,
   "metadata": {},
   "outputs": [
    {
     "name": "stdout",
     "output_type": "stream",
     "text": [
      "-rw-r--r-- 1 jovyan jovyan 153M Jul  8 03:22 glob20190707T00.nc\n"
     ]
    }
   ],
   "source": [
    "! ls -hl glob*nc"
   ]
  },
  {
   "cell_type": "code",
   "execution_count": 7,
   "metadata": {},
   "outputs": [
    {
     "name": "stdout",
     "output_type": "stream",
     "text": [
      "peak memory: 141.14 MiB, increment: 0.01 MiB\n"
     ]
    }
   ],
   "source": [
    "# 's3://metservice-research-us-east-2/research/experiments/rosa/tmp\n",
    "s3 = s3fs.S3FileSystem(anon=False)\n",
    "store = s3fs.S3Map(root='s3://metservice-research-us-east-2/research/experiments/rosa/tmp/glob20190707T00.zarr', s3=s3)\n",
    "%memit"
   ]
  },
  {
   "cell_type": "code",
   "execution_count": 8,
   "metadata": {},
   "outputs": [
    {
     "name": "stdout",
     "output_type": "stream",
     "text": [
      "CPU times: user 21.2 s, sys: 3.66 s, total: 24.8 s\n",
      "Wall time: 8min 20s\n",
      "peak memory: 1932.26 MiB, increment: 0.00 MiB\n"
     ]
    }
   ],
   "source": [
    "%time ds.to_zarr(store=store, mode='w')\n",
    "%memit"
   ]
  },
  {
   "cell_type": "code",
   "execution_count": 9,
   "metadata": {},
   "outputs": [
    {
     "name": "stdout",
     "output_type": "stream",
     "text": [
      "CPU times: user 1.23 s, sys: 43.6 ms, total: 1.28 s\n",
      "Wall time: 33.3 s\n",
      "peak memory: 1932.71 MiB, increment: 0.01 MiB\n"
     ]
    }
   ],
   "source": [
    "%time ds_zarr = xr.open_zarr(store=store)\n",
    "%memit"
   ]
  },
  {
   "cell_type": "code",
   "execution_count": null,
   "metadata": {},
   "outputs": [],
   "source": []
  }
 ],
 "metadata": {
  "kernelspec": {
   "display_name": "Python 3",
   "language": "python",
   "name": "python3"
  },
  "language_info": {
   "codemirror_mode": {
    "name": "ipython",
    "version": 3
   },
   "file_extension": ".py",
   "mimetype": "text/x-python",
   "name": "python",
   "nbconvert_exporter": "python",
   "pygments_lexer": "ipython3",
   "version": "3.7.3"
  }
 },
 "nbformat": 4,
 "nbformat_minor": 2
}
