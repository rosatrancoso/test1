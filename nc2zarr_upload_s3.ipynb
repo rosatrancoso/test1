{
 "cells": [
  {
   "cell_type": "code",
   "execution_count": 1,
   "metadata": {},
   "outputs": [],
   "source": [
    "%load_ext memory_profiler"
   ]
  },
  {
   "cell_type": "code",
   "execution_count": 2,
   "metadata": {},
   "outputs": [
    {
     "name": "stdout",
     "output_type": "stream",
     "text": [
      "peak memory: 58.15 MiB, increment: 0.22 MiB\n"
     ]
    }
   ],
   "source": [
    "%memit"
   ]
  },
  {
   "cell_type": "code",
   "execution_count": 3,
   "metadata": {},
   "outputs": [
    {
     "name": "stdout",
     "output_type": "stream",
     "text": [
      "peak memory: 123.71 MiB, increment: 0.03 MiB\n"
     ]
    }
   ],
   "source": [
    "import xarray as xr\n",
    "import s3fs\n",
    "%memit"
   ]
  },
  {
   "cell_type": "code",
   "execution_count": 4,
   "metadata": {},
   "outputs": [
    {
     "name": "stdout",
     "output_type": "stream",
     "text": [
      "peak memory: 123.73 MiB, increment: 0.00 MiB\n"
     ]
    }
   ],
   "source": [
    "filein = 'tos_O1_2001-2002.nc'\n",
    "%memit"
   ]
  },
  {
   "cell_type": "code",
   "execution_count": 5,
   "metadata": {},
   "outputs": [
    {
     "name": "stdout",
     "output_type": "stream",
     "text": [
      "CPU times: user 39.6 ms, sys: 7.87 ms, total: 47.5 ms\n",
      "Wall time: 124 ms\n",
      "peak memory: 133.00 MiB, increment: 0.01 MiB\n"
     ]
    }
   ],
   "source": [
    "%time ds = xr.open_dataset(filein)\n",
    "%memit"
   ]
  },
  {
   "cell_type": "code",
   "execution_count": 6,
   "metadata": {},
   "outputs": [
    {
     "name": "stdout",
     "output_type": "stream",
     "text": [
      "-rw-r--r-- 1 jovyan jovyan 2.9M Sep 12  2012 tos_O1_2001-2002.nc\n"
     ]
    }
   ],
   "source": [
    "! ls -hl tos*nc"
   ]
  },
  {
   "cell_type": "code",
   "execution_count": 15,
   "metadata": {},
   "outputs": [
    {
     "name": "stdout",
     "output_type": "stream",
     "text": [
      "peak memory: 153.64 MiB, increment: 0.00 MiB\n"
     ]
    }
   ],
   "source": [
    "# 's3://metservice-research-us-east-2/research/experiments/rosa/tmp\n",
    "s3 = s3fs.S3FileSystem(anon=False)\n",
    "store = s3fs.S3Map(root='s3://metservice-research-us-east-2/research/experiments/rosa/tmp/vixemaria.zarr', s3=s3)\n",
    "%memit"
   ]
  },
  {
   "cell_type": "code",
   "execution_count": 17,
   "metadata": {},
   "outputs": [
    {
     "name": "stdout",
     "output_type": "stream",
     "text": [
      "CPU times: user 848 ms, sys: 40.6 ms, total: 889 ms\n",
      "Wall time: 33.3 s\n",
      "peak memory: 145.36 MiB, increment: 0.00 MiB\n"
     ]
    }
   ],
   "source": [
    "%time ds.to_zarr(store=store, mode='w')\n",
    "%memit"
   ]
  },
  {
   "cell_type": "code",
   "execution_count": 18,
   "metadata": {},
   "outputs": [
    {
     "name": "stdout",
     "output_type": "stream",
     "text": [
      "CPU times: user 289 ms, sys: 6.06 ms, total: 295 ms\n",
      "Wall time: 8.94 s\n",
      "peak memory: 145.36 MiB, increment: 0.00 MiB\n"
     ]
    }
   ],
   "source": [
    "%time ds_zarr = xr.open_zarr(store=store)\n",
    "%memit"
   ]
  },
  {
   "cell_type": "code",
   "execution_count": null,
   "metadata": {},
   "outputs": [],
   "source": []
  }
 ],
 "metadata": {
  "kernelspec": {
   "display_name": "Python 3",
   "language": "python",
   "name": "python3"
  },
  "language_info": {
   "codemirror_mode": {
    "name": "ipython",
    "version": 3
   },
   "file_extension": ".py",
   "mimetype": "text/x-python",
   "name": "python",
   "nbconvert_exporter": "python",
   "pygments_lexer": "ipython3",
   "version": "3.7.3"
  }
 },
 "nbformat": 4,
 "nbformat_minor": 2
}
